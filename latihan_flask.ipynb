{
 "cells": [
  {
   "cell_type": "code",
   "execution_count": 1,
   "metadata": {},
   "outputs": [
    {
     "name": "stdout",
     "output_type": "stream",
     "text": [
      "Requirement already satisfied: flask-mysqldb in c:\\users\\cahya\\deep-learning\\lib\\site-packages (2.0.0)\n",
      "Requirement already satisfied: Flask>=1.0.4 in c:\\users\\cahya\\deep-learning\\lib\\site-packages (from flask-mysqldb) (3.1.0)\n",
      "Requirement already satisfied: mysqlclient>=2.2.0 in c:\\users\\cahya\\deep-learning\\lib\\site-packages (from flask-mysqldb) (2.2.6)\n",
      "Requirement already satisfied: Werkzeug>=3.1 in c:\\users\\cahya\\deep-learning\\lib\\site-packages (from Flask>=1.0.4->flask-mysqldb) (3.1.3)\n",
      "Requirement already satisfied: Jinja2>=3.1.2 in c:\\users\\cahya\\deep-learning\\lib\\site-packages (from Flask>=1.0.4->flask-mysqldb) (3.1.4)\n",
      "Requirement already satisfied: itsdangerous>=2.2 in c:\\users\\cahya\\deep-learning\\lib\\site-packages (from Flask>=1.0.4->flask-mysqldb) (2.2.0)\n",
      "Requirement already satisfied: click>=8.1.3 in c:\\users\\cahya\\deep-learning\\lib\\site-packages (from Flask>=1.0.4->flask-mysqldb) (8.1.7)\n",
      "Requirement already satisfied: blinker>=1.9 in c:\\users\\cahya\\deep-learning\\lib\\site-packages (from Flask>=1.0.4->flask-mysqldb) (1.9.0)\n",
      "Requirement already satisfied: colorama in c:\\users\\cahya\\deep-learning\\lib\\site-packages (from click>=8.1.3->Flask>=1.0.4->flask-mysqldb) (0.4.6)\n",
      "Requirement already satisfied: MarkupSafe>=2.0 in c:\\users\\cahya\\deep-learning\\lib\\site-packages (from Jinja2>=3.1.2->Flask>=1.0.4->flask-mysqldb) (3.0.2)\n",
      "Note: you may need to restart the kernel to use updated packages.\n"
     ]
    }
   ],
   "source": [
    "%pip install flask-mysqldb"
   ]
  },
  {
   "cell_type": "code",
   "execution_count": 2,
   "metadata": {},
   "outputs": [
    {
     "name": "stdout",
     "output_type": "stream",
     "text": [
      "Requirement already satisfied: flask-wtf in c:\\users\\cahya\\deep-learning\\lib\\site-packages (1.2.2)\n",
      "Requirement already satisfied: flask in c:\\users\\cahya\\deep-learning\\lib\\site-packages (from flask-wtf) (3.1.0)\n",
      "Requirement already satisfied: itsdangerous in c:\\users\\cahya\\deep-learning\\lib\\site-packages (from flask-wtf) (2.2.0)\n",
      "Requirement already satisfied: wtforms in c:\\users\\cahya\\deep-learning\\lib\\site-packages (from flask-wtf) (3.2.1)\n",
      "Requirement already satisfied: Werkzeug>=3.1 in c:\\users\\cahya\\deep-learning\\lib\\site-packages (from flask->flask-wtf) (3.1.3)\n",
      "Requirement already satisfied: Jinja2>=3.1.2 in c:\\users\\cahya\\deep-learning\\lib\\site-packages (from flask->flask-wtf) (3.1.4)\n",
      "Requirement already satisfied: click>=8.1.3 in c:\\users\\cahya\\deep-learning\\lib\\site-packages (from flask->flask-wtf) (8.1.7)\n",
      "Requirement already satisfied: blinker>=1.9 in c:\\users\\cahya\\deep-learning\\lib\\site-packages (from flask->flask-wtf) (1.9.0)\n",
      "Requirement already satisfied: markupsafe in c:\\users\\cahya\\deep-learning\\lib\\site-packages (from wtforms->flask-wtf) (3.0.2)\n",
      "Requirement already satisfied: colorama in c:\\users\\cahya\\deep-learning\\lib\\site-packages (from click>=8.1.3->flask->flask-wtf) (0.4.6)\n",
      "Note: you may need to restart the kernel to use updated packages.\n"
     ]
    }
   ],
   "source": [
    "%pip install flask-wtf"
   ]
  },
  {
   "cell_type": "code",
   "execution_count": 6,
   "metadata": {},
   "outputs": [
    {
     "name": "stdout",
     "output_type": "stream",
     "text": [
      " * Serving Flask app '__main__'\n",
      " * Debug mode: off\n"
     ]
    },
    {
     "name": "stderr",
     "output_type": "stream",
     "text": [
      "WARNING: This is a development server. Do not use it in a production deployment. Use a production WSGI server instead.\n",
      " * Running on http://127.0.0.2:5100\n",
      "Press CTRL+C to quit\n",
      "127.0.0.1 - - [24/Nov/2024 21:41:38] \"GET / HTTP/1.1\" 200 -\n",
      "127.0.0.1 - - [24/Nov/2024 21:41:41] \"GET /favicon.ico HTTP/1.1\" 404 -\n",
      "127.0.0.1 - - [24/Nov/2024 21:42:36] \"POST /add HTTP/1.1\" 302 -\n",
      "127.0.0.1 - - [24/Nov/2024 21:42:37] \"GET / HTTP/1.1\" 200 -\n",
      "127.0.0.1 - - [24/Nov/2024 21:43:04] \"GET /edit/Jenni HTTP/1.1\" 200 -\n",
      "127.0.0.1 - - [24/Nov/2024 21:44:01] \"GET /delete/Jenni HTTP/1.1\" 302 -\n",
      "127.0.0.1 - - [24/Nov/2024 21:44:01] \"GET / HTTP/1.1\" 200 -\n"
     ]
    }
   ],
   "source": [
    "from flask import Flask, render_template, request, redirect, url_for, flash\n",
    "from flask_mysqldb import MySQL\n",
    "\n",
    "app = Flask(__name__)\n",
    "app.secret_key = \"secret_key\"\n",
    "\n",
    "app.config[\"MYSQL_HOST\"] = \"localhost\"\n",
    "app.config[\"MYSQL_USER\"] = \"root\"\n",
    "app.config[\"MYSQL_PASSWORD\"] = \"\"\n",
    "app.config[\"MYSQL_DB\"] = \"analytics_db\"\n",
    "mysql = MySQL(app)\n",
    "\n",
    "# halaman utama (Read)\n",
    "@app.route(\"/\")\n",
    "def index():\n",
    "    try:\n",
    "        cur = mysql.connection.cursor()\n",
    "        cur.execute(\"SELECT data_name, value, created_at FROM data_analytics\")\n",
    "        data = cur.fetchall()\n",
    "        cur.close()\n",
    "        return render_template(\"index.html\", data=data)\n",
    "    except Exception as e:\n",
    "        return str(e)\n",
    "\n",
    "# Tambah data (Create)\n",
    "@app.route(\"/add\", methods=[\"GET\", \"POST\"])\n",
    "def add_user():\n",
    "    if request.method == \"POST\": \n",
    "        try: \n",
    "            data_name = request.form[\"data_name\"] \n",
    "            value = request.form[\"value\"] \n",
    "            cur = mysql.connection.cursor() \n",
    "            cur.execute(\"INSERT INTO data_analytics (data_name, value) VALUES (%s, %s)\", (data_name, value)) \n",
    "            mysql.connection.commit() \n",
    "            cur.close() \n",
    "            flash(\"Data berhasil ditambahkan!\") \n",
    "            return redirect(url_for(\"index\")) \n",
    "        except Exception as e: \n",
    "            return str(e) \n",
    "    return render_template(\"add.html\")\n",
    "    \n",
    "# update dta (Update)\n",
    "@app.route(\"/edit/<id>\", methods=[\"POST\", \"GET\"])\n",
    "def edit_user(id):\n",
    "    try:\n",
    "        cur = mysql.connection.cursor()\n",
    "        cur.execute(\"SELECT data_name, value FROM data_analytics WHERE id = %s\", [id])\n",
    "        data = cur.fetchone()\n",
    "        cur.close()\n",
    "        if request.method == \"POST\": \n",
    "            data_name = request.form[\"data_name\"] \n",
    "            value = request.form[\"value\"] \n",
    "            cur = mysql.connection.cursor() \n",
    "            cur.execute(\"UPDATE data_analytics SET data_name = %s, value = %s WHERE id = %s\", (data_name, value, id)) \n",
    "            mysql.connection.commit() \n",
    "            cur.close() \n",
    "            flash(\"Data berhasil updated!\") \n",
    "            return redirect(url_for(\"index\"))\n",
    "        return render_template(\"edit.html\", user=data)\n",
    "    except Exception as e:\n",
    "        return str(e)\n",
    "\n",
    "    \n",
    "# hapus data (Delete)\n",
    "@app.route(\"/delete/<id>\", methods=[\"GET\"])\n",
    "def delete_user(id):\n",
    "    try:\n",
    "        cur = mysql.connection.cursor()\n",
    "        cur.execute(\"DELETE FROM data_analytics WHERE id = %s\", (id,))\n",
    "        mysql.connection.commit()\n",
    "        cur.close()\n",
    "        flash(\"User berhasil di hapus!\")\n",
    "        return redirect(url_for(\"index\"))\n",
    "    except Exception as e:\n",
    "        return str(e)\n",
    "\n",
    "if __name__ == \"__main__\":\n",
    "    app.run(host=\"127.0.0.2\", port=5100)"
   ]
  },
  {
   "cell_type": "code",
   "execution_count": 3,
   "metadata": {},
   "outputs": [
    {
     "name": "stdout",
     "output_type": "stream",
     "text": [
      "Requirement already satisfied: flask in c:\\users\\cahya\\deep-learning\\lib\\site-packages (3.1.0)\n",
      "Requirement already satisfied: flask-mysqldb in c:\\users\\cahya\\deep-learning\\lib\\site-packages (2.0.0)\n",
      "Collecting flask-ngrok\n",
      "  Using cached flask_ngrok-0.0.25-py3-none-any.whl.metadata (1.8 kB)\n",
      "Requirement already satisfied: Werkzeug>=3.1 in c:\\users\\cahya\\deep-learning\\lib\\site-packages (from flask) (3.1.3)\n",
      "Requirement already satisfied: Jinja2>=3.1.2 in c:\\users\\cahya\\deep-learning\\lib\\site-packages (from flask) (3.1.4)\n",
      "Requirement already satisfied: itsdangerous>=2.2 in c:\\users\\cahya\\deep-learning\\lib\\site-packages (from flask) (2.2.0)\n",
      "Requirement already satisfied: click>=8.1.3 in c:\\users\\cahya\\deep-learning\\lib\\site-packages (from flask) (8.1.7)\n",
      "Requirement already satisfied: blinker>=1.9 in c:\\users\\cahya\\deep-learning\\lib\\site-packages (from flask) (1.9.0)\n",
      "Requirement already satisfied: mysqlclient>=2.2.0 in c:\\users\\cahya\\deep-learning\\lib\\site-packages (from flask-mysqldb) (2.2.6)\n",
      "Requirement already satisfied: requests in c:\\users\\cahya\\deep-learning\\lib\\site-packages (from flask-ngrok) (2.32.3)\n",
      "Requirement already satisfied: colorama in c:\\users\\cahya\\deep-learning\\lib\\site-packages (from click>=8.1.3->flask) (0.4.6)\n",
      "Requirement already satisfied: MarkupSafe>=2.0 in c:\\users\\cahya\\deep-learning\\lib\\site-packages (from Jinja2>=3.1.2->flask) (3.0.2)\n",
      "Requirement already satisfied: charset-normalizer<4,>=2 in c:\\users\\cahya\\deep-learning\\lib\\site-packages (from requests->flask-ngrok) (3.4.0)\n",
      "Requirement already satisfied: idna<4,>=2.5 in c:\\users\\cahya\\deep-learning\\lib\\site-packages (from requests->flask-ngrok) (2.10)\n",
      "Requirement already satisfied: urllib3<3,>=1.21.1 in c:\\users\\cahya\\deep-learning\\lib\\site-packages (from requests->flask-ngrok) (2.2.3)\n",
      "Requirement already satisfied: certifi>=2017.4.17 in c:\\users\\cahya\\deep-learning\\lib\\site-packages (from requests->flask-ngrok) (2024.8.30)\n",
      "Using cached flask_ngrok-0.0.25-py3-none-any.whl (3.1 kB)\n",
      "Installing collected packages: flask-ngrok\n",
      "Successfully installed flask-ngrok-0.0.25\n",
      "Note: you may need to restart the kernel to use updated packages.\n"
     ]
    }
   ],
   "source": [
    "%pip install flask flask-mysqldb flask-ngrok"
   ]
  }
 ],
 "metadata": {
  "kernelspec": {
   "display_name": "deep-learning",
   "language": "python",
   "name": "python3"
  },
  "language_info": {
   "codemirror_mode": {
    "name": "ipython",
    "version": 3
   },
   "file_extension": ".py",
   "mimetype": "text/x-python",
   "name": "python",
   "nbconvert_exporter": "python",
   "pygments_lexer": "ipython3",
   "version": "3.12.6"
  }
 },
 "nbformat": 4,
 "nbformat_minor": 2
}
